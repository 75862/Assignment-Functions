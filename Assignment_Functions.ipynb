{
  "nbformat": 4,
  "nbformat_minor": 0,
  "metadata": {
    "colab": {
      "provenance": []
    },
    "kernelspec": {
      "name": "python3",
      "display_name": "Python 3"
    },
    "language_info": {
      "name": "python"
    }
  },
  "cells": [
    {
      "cell_type": "markdown",
      "source": [
        "#1.What is the difference between a function and a method in Python?\n",
        "\n",
        "Function class ke bahar define hota hai aur directly call hota hai, jabki method class ke andar hota hai aur object ke through call hota hai.\n",
        "\n",
        "**Example:**\n",
        "\n",
        "Function:\n",
        "\n",
        "def greet(name):\n",
        "\n",
        "    print('Hello', name)\n",
        "\n",
        "greet('Abhishek')\n",
        "\n",
        "Method:\n",
        "\n",
        "class Person:\n",
        "\n",
        "    def greet(self, name):\n",
        "\n",
        "        print('Hello', name)\n",
        "\n",
        "p = Person()\n",
        "\n",
        " p.greet('Abhishek')\n",
        "\n"
      ],
      "metadata": {
        "id": "Q8hc5OmH44Cu"
      }
    },
    {
      "cell_type": "markdown",
      "source": [
        "#2.Explain the concept of function arguments and parameters in Python.\n",
        "Function definition mein jo variable hote hain wo parameters kehlate hain, aur function call karte waqt jo values dete hain wo arguments hote hain.\n",
        "\n",
        "Example:\n",
        "\n",
        "def greet(name):\n",
        "\n",
        "    print('Hello', name)\n",
        "    \n",
        "greet('Abhishek')\n"
      ],
      "metadata": {
        "id": "jhTQIjSe5dev"
      }
    },
    {
      "cell_type": "markdown",
      "source": [
        "#3.What are the different ways to define and call a function in Python?\n",
        "Function define karne ke liye 'def' keyword use hota hai. Call karne ke liye function ka naam aur brackets use karte hain.\n",
        "\n",
        "Example:\n",
        "\n",
        "def add(a, b):\n",
        "\n",
        "    return a + b\n",
        "    \n",
        "print(add(2, 3))\n"
      ],
      "metadata": {
        "id": "eT5uS8cQ5wdi"
      }
    },
    {
      "cell_type": "markdown",
      "source": [
        "#4.What is the purpose of the `return` statement in a Python function?\n",
        "Retunr ka use function se result ya value ko wapas bhejne ke liye hota hai.\n",
        "\n",
        "Example:\n",
        "\n",
        "def square(x):\n",
        "\n",
        "return x * x\n",
        "\n",
        "print(square(4))\n",
        "\n"
      ],
      "metadata": {
        "id": "NGUpfdRu59Pf"
      }
    },
    {
      "cell_type": "markdown",
      "source": [
        "5. What are iterators in Python and how do they differ from iterables?\n",
        "Iterator ek object hota hai jisme next() function hota hai. Iterable wo hota hai jise loop mein use kiya ja sakta hai jaise list.\n",
        "\n",
        "Example:\n",
        "\n",
        "nums = [1, 2, 3]\n",
        "\n",
        "it = iter(nums)\n",
        "\n",
        "print(next(it))\n"
      ],
      "metadata": {
        "id": "3k02MpHR6cbg"
      }
    },
    {
      "cell_type": "markdown",
      "source": [
        "# 6.Explain the concept of generators in Python and how they are defined.\n",
        "Generator special type ke function hote hain jo yield keyword ka use karke values return karte hain one by one.\n",
        "\n",
        "Example:\n",
        "\n",
        "def gen():\n",
        "\n",
        "    yield 1\n",
        "    yield 2\n",
        "for i in gen():\n",
        "\n",
        "    print(i)\n"
      ],
      "metadata": {
        "id": "Kut08Db56-E4"
      }
    },
    {
      "cell_type": "markdown",
      "source": [
        "#7.What are the advantages of using generators over regular functions?\n",
        "Generators memory efficient hote hain, kyunki ye ek time par ek hi value return karte hain.\n",
        "\n",
        "Example:\n",
        "\n",
        "def count_up_to(n):\n",
        "\n",
        "    i = 1\n",
        "    while i <= n:\n",
        "        yield i\n",
        "        i += 1\n"
      ],
      "metadata": {
        "id": "pMigBJQR79wE"
      }
    },
    {
      "cell_type": "markdown",
      "source": [
        "#8.What is a lambda function in Python and when is it typically used?\n",
        "Lambda ek short anonymous function hota hai jo simple kaam ke liye use hota hai.\n",
        "\n",
        "Example:\n",
        "\n",
        "square = lambda x: x * x\n",
        "\n",
        "print(square(5))\n"
      ],
      "metadata": {
        "id": "VOoslArQ8fLq"
      }
    },
    {
      "cell_type": "markdown",
      "source": [
        "#9.Explain the purpose and usage of the `map()` function in Python.\n",
        "'map()' ek built-in function hai jo ek function ko har item par apply karta hai.\n",
        "\n",
        "Example:\n",
        "\n",
        "nums = [1, 2, 3]\n",
        "\n",
        "squares = list(map(lambda x: x*x, nums))\n",
        "\n",
        "print(squares)\n",
        "\n"
      ],
      "metadata": {
        "id": "1GmGowGl8z4l"
      }
    },
    {
      "cell_type": "markdown",
      "source": [
        "#10.What is the difference between `map()`, `reduce()`, and `filter()` functions in Python?\n",
        "\n",
        "'map()' har item par function apply karta hai, `filter()` condition wale items ko nikalta hai, aur `reduce()` sab items ko combine karta hai.\n",
        "\n",
        "Example:\n",
        "\n",
        "from functools import reduce\n",
        "\n",
        "nums = [1, 2, 3, 4]\n",
        "\n",
        "print(list(map(lambda x: x*2, nums)))\n",
        "\n",
        "print(list(filter(lambda x: x%2==0, nums)))\n",
        "\n",
        "print(reduce(lambda x, y: x+y, nums))\n",
        "\n"
      ],
      "metadata": {
        "id": "o7pojfox9ESG"
      }
    },
    {
      "cell_type": "markdown",
      "source": [
        "#11.Using pen & Paper write the internal mechanism for sum operation using  reduce function on this given\n",
        "list:[47,11,42,13];\n",
        "\n",
        "Python mein reduce() function kisi list ke elements ko step-by-step combine karta hai, ek function ke zariye. Sum karne ke liye, yeh left se right values ko add karta hai.\n",
        "\n",
        "internal mechanism:-\n",
        "\n",
        "from functools import reduce\n",
        "\n",
        "nums = [47, 11, 42, 13]\n",
        "\n",
        "result = reduce(lambda x, y: x + y, nums)\n",
        "\n",
        "Step 1: x = 47, y = 11   →  x + y = 58  \n",
        "Step 2: x = 58, y = 42   →  x + y = 100  \n",
        "Step 3: x = 100, y = 13  →  x + y = 113  \n",
        "\n",
        "Final Result: 113\n",
        "\n",
        "reduce() function ne list ke elements ko pair-by-pair add kiya:\n",
        "→ ((47 + 11) + 42) + 13 = 113\n",
        "\n",
        "\n"
      ],
      "metadata": {
        "id": "LlnNMPwj9TBt"
      }
    },
    {
      "cell_type": "markdown",
      "source": [
        "# #Python Practical Assignment"
      ],
      "metadata": {
        "id": "j_5o-8BH-JQY"
      }
    },
    {
      "cell_type": "markdown",
      "source": [
        "# 1. Write a Python function that takes a list of numbers as input and returns the sum of all even numbers in the list."
      ],
      "metadata": {
        "id": "SjVBVUNMANjA"
      }
    },
    {
      "cell_type": "code",
      "source": [
        "def sum_even_numbers(numbers):\n",
        "    return sum(num for num in numbers if num % 2 == 0)\n",
        "\n",
        "print(sum_even_numbers([1, 2, 3, 4, 5, 6]))\n"
      ],
      "metadata": {
        "colab": {
          "base_uri": "https://localhost:8080/"
        },
        "id": "eXyJSXA7AQHQ",
        "outputId": "a7a2f83a-2d9c-4674-a1e7-20b4525fabfa"
      },
      "execution_count": 1,
      "outputs": [
        {
          "output_type": "stream",
          "name": "stdout",
          "text": [
            "12\n"
          ]
        }
      ]
    },
    {
      "cell_type": "markdown",
      "source": [
        "# 2. Create a Python function that accepts a string and returns the reverse of that string."
      ],
      "metadata": {
        "id": "gsVSaiGEAbtF"
      }
    },
    {
      "cell_type": "code",
      "source": [
        "def reverse_string(s):\n",
        "    return s[::-1]\n",
        "\n",
        "print(reverse_string('Abhishek'))\n"
      ],
      "metadata": {
        "colab": {
          "base_uri": "https://localhost:8080/"
        },
        "id": "Pni_L-B6Al0f",
        "outputId": "4319d283-6a2f-417c-e0ce-a7da4c70772f"
      },
      "execution_count": 2,
      "outputs": [
        {
          "output_type": "stream",
          "name": "stdout",
          "text": [
            "kehsihbA\n"
          ]
        }
      ]
    },
    {
      "cell_type": "markdown",
      "source": [
        "# 3. Implement a Python function that takes a list of integers and returns a new list containing the squares of each number."
      ],
      "metadata": {
        "id": "HJZnaPmsAykI"
      }
    },
    {
      "cell_type": "code",
      "source": [
        "def square_list(nums):\n",
        "    return [x**2 for x in nums]\n",
        "\n",
        "print(square_list([1, 2, 3, 4]))"
      ],
      "metadata": {
        "colab": {
          "base_uri": "https://localhost:8080/"
        },
        "id": "uDLcW2kGAvMp",
        "outputId": "626e3399-e891-4d62-c330-f74dd4c6a513"
      },
      "execution_count": 3,
      "outputs": [
        {
          "output_type": "stream",
          "name": "stdout",
          "text": [
            "[1, 4, 9, 16]\n"
          ]
        }
      ]
    },
    {
      "cell_type": "markdown",
      "source": [
        "#4.Write a Python function that checks if a given number is prime or not from 1 to 200"
      ],
      "metadata": {
        "id": "rx5bx7IEA_qB"
      }
    },
    {
      "cell_type": "code",
      "source": [
        "def is_prime(n):\n",
        "    if n < 2:\n",
        "        return False\n",
        "    for i in range(2, int(n**0.5)+1):\n",
        "        if n % i == 0:\n",
        "            return False\n",
        "    return True\n",
        "\n",
        "print([n for n in range(1, 201) if is_prime(n)])"
      ],
      "metadata": {
        "colab": {
          "base_uri": "https://localhost:8080/"
        },
        "id": "fb7L2-ciBU8u",
        "outputId": "71986557-c7b4-4a18-99d6-e4ff3d778e1a"
      },
      "execution_count": 7,
      "outputs": [
        {
          "output_type": "stream",
          "name": "stdout",
          "text": [
            "[2, 3, 5, 7, 11, 13, 17, 19, 23, 29, 31, 37, 41, 43, 47, 53, 59, 61, 67, 71, 73, 79, 83, 89, 97, 101, 103, 107, 109, 113, 127, 131, 137, 139, 149, 151, 157, 163, 167, 173, 179, 181, 191, 193, 197, 199]\n"
          ]
        }
      ]
    },
    {
      "cell_type": "markdown",
      "source": [
        "#5. Create an iterator class in Python that generates the Fibonacci sequence up to a specified number of terms"
      ],
      "metadata": {
        "id": "b16wLq8ABbZZ"
      }
    },
    {
      "cell_type": "code",
      "source": [
        "class Fibonacci:\n",
        "    def __init__(self, max_terms):\n",
        "        self.max_terms = max_terms\n",
        "        self.a, self.b = 0, 1\n",
        "        self.count = 0\n",
        "\n",
        "    def __iter__(self):\n",
        "        return self\n",
        "\n",
        "    def __next__(self):\n",
        "        if self.count >= self.max_terms:\n",
        "            raise StopIteration\n",
        "        value = self.a\n",
        "        self.a, self.b = self.b, self.a + self.b\n",
        "        self.count += 1\n",
        "        return value\n",
        "\n",
        "for num in Fibonacci(10):\n",
        "    print(num, end=' ')"
      ],
      "metadata": {
        "colab": {
          "base_uri": "https://localhost:8080/"
        },
        "id": "NW1i4NgGBZlG",
        "outputId": "c69f51b2-3dbd-44c0-c09b-496e97db6d94"
      },
      "execution_count": 8,
      "outputs": [
        {
          "output_type": "stream",
          "name": "stdout",
          "text": [
            "0 1 1 2 3 5 8 13 21 34 "
          ]
        }
      ]
    },
    {
      "cell_type": "markdown",
      "source": [
        "#6.Write a generator function in Python that yields the powers of 2 up to a given exponent."
      ],
      "metadata": {
        "id": "frlkq43dBoFf"
      }
    },
    {
      "cell_type": "code",
      "source": [
        "def powers_of_two(max_exp):\n",
        "    for i in range(max_exp + 1):\n",
        "        yield 2 ** i\n",
        "\n",
        "for power in powers_of_two(5):\n",
        "    print(power)"
      ],
      "metadata": {
        "colab": {
          "base_uri": "https://localhost:8080/"
        },
        "id": "DYCztF3PBm4p",
        "outputId": "34f55e84-9be0-4fdb-9654-0adc6b359380"
      },
      "execution_count": 9,
      "outputs": [
        {
          "output_type": "stream",
          "name": "stdout",
          "text": [
            "1\n",
            "2\n",
            "4\n",
            "8\n",
            "16\n",
            "32\n"
          ]
        }
      ]
    },
    {
      "cell_type": "markdown",
      "source": [
        "#7. Implement a generator function that reads a file line by line and yields each line as a string."
      ],
      "metadata": {
        "id": "Higq7-kaB3mU"
      }
    },
    {
      "cell_type": "code",
      "source": [
        "def read_file_lines(filename):\n",
        "    with open(filename, 'r') as file:\n",
        "        for line in file:\n",
        "            yield line.strip()\n",
        "\n",
        "# for line in read_file_lines('example.txt'):\n",
        "#     print(line)\n"
      ],
      "metadata": {
        "id": "yJ-184VfCFEx"
      },
      "execution_count": null,
      "outputs": []
    },
    {
      "cell_type": "markdown",
      "source": [
        "#8.Use a lambda function in Python to sort a list of tuples based on the second element of each tuple."
      ],
      "metadata": {
        "id": "Skk2ayLvCO6d"
      }
    },
    {
      "cell_type": "code",
      "source": [
        "data = [(1, 3), (2, 1), (4, 2)]\n",
        "sorted_data = sorted(data, key=lambda x: x[1])\n",
        "print(sorted_data)"
      ],
      "metadata": {
        "colab": {
          "base_uri": "https://localhost:8080/"
        },
        "id": "WyS6S6eYCSzx",
        "outputId": "0f78d586-52b1-4522-c157-5e80427f8e23"
      },
      "execution_count": 15,
      "outputs": [
        {
          "output_type": "stream",
          "name": "stdout",
          "text": [
            "[(2, 1), (4, 2), (1, 3)]\n"
          ]
        }
      ]
    },
    {
      "cell_type": "markdown",
      "source": [
        "#9. Write a Python program that uses map() to convert a list of temperatures from Celsius to Fahrenheit."
      ],
      "metadata": {
        "id": "fUjXAkUGCYXb"
      }
    },
    {
      "cell_type": "code",
      "source": [
        "celsius = [0, 20, 37, 100]\n",
        "fahrenheit = list(map(lambda c: (c * 9/5) + 32, celsius))\n",
        "print(fahrenheit)"
      ],
      "metadata": {
        "colab": {
          "base_uri": "https://localhost:8080/"
        },
        "id": "QQFbDzCTCXLw",
        "outputId": "79eb1595-c910-4d6f-e7e1-e56571470931"
      },
      "execution_count": 16,
      "outputs": [
        {
          "output_type": "stream",
          "name": "stdout",
          "text": [
            "[32.0, 68.0, 98.6, 212.0]\n"
          ]
        }
      ]
    },
    {
      "cell_type": "markdown",
      "source": [
        "#10. Create a Python program that uses filter() to remove all the vowels from a given string."
      ],
      "metadata": {
        "id": "5sdfmU29Cfy0"
      }
    },
    {
      "cell_type": "code",
      "source": [
        "def remove_vowels(s):\n",
        "    return ''.join(filter(lambda x: x.lower() not in 'aeiou', s))\n",
        "\n",
        "print(remove_vowels('Abhishek'))"
      ],
      "metadata": {
        "colab": {
          "base_uri": "https://localhost:8080/"
        },
        "id": "F3hM9N5PCkcy",
        "outputId": "b841732c-c1c9-4e88-9371-fdd53c50804b"
      },
      "execution_count": 17,
      "outputs": [
        {
          "output_type": "stream",
          "name": "stdout",
          "text": [
            "bhshk\n"
          ]
        }
      ]
    },
    {
      "cell_type": "markdown",
      "source": [
        "#11) Imagine an accounting routine used in a book shop. It works on a list with sublists, which look like this:\n",
        "Write a Python program, which returns a list with 2-tuples. Each tuple consists of the order number and the\n",
        "product of the price per item and the quantity. The product should be increased by 10,- € if the value of the\n",
        "order is smaller than 100,00 €.\n",
        "\n",
        "Write a Python program using lambda and map."
      ],
      "metadata": {
        "id": "1oBdAgDeDWfN"
      }
    },
    {
      "cell_type": "code",
      "source": [
        "orders = [\n",
        "    [34587, \"Learning Python, Mark Lutz\", 4, 40.95],\n",
        "    [98762, \"Programming Python, Mark Lutz\", 5, 56.80],\n",
        "    [77226, \"Head First Python, Paul Barry\", 3, 32.95],\n",
        "    [88112, \"Einführung in Python3, Bernd Klein\", 3, 24.99]\n",
        "]\n",
        "\n",
        "final_orders = list(map(\n",
        "    lambda order: (order[0], round(order[2]*order[3] + 10 if order[2]*order[3] < 100 else order[2]*order[3], 2)),\n",
        "    orders\n",
        "))\n",
        "\n",
        "print(final_orders)\n"
      ],
      "metadata": {
        "colab": {
          "base_uri": "https://localhost:8080/"
        },
        "id": "_qDVVawgCnyB",
        "outputId": "22443a70-e167-4bd1-8f65-dd2485767cb6"
      },
      "execution_count": 18,
      "outputs": [
        {
          "output_type": "stream",
          "name": "stdout",
          "text": [
            "[(34587, 163.8), (98762, 284.0), (77226, 108.85), (88112, 84.97)]\n"
          ]
        }
      ]
    }
  ]
}